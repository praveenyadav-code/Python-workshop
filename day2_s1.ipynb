{
  "nbformat": 4,
  "nbformat_minor": 0,
  "metadata": {
    "colab": {
      "name": "Untitled7.ipynb",
      "provenance": [],
      "authorship_tag": "ABX9TyOVFg1R3aMASc9+tzW8CKta",
      "include_colab_link": true
    },
    "kernelspec": {
      "name": "python3",
      "display_name": "Python 3"
    }
  },
  "cells": [
    {
      "cell_type": "markdown",
      "metadata": {
        "id": "view-in-github",
        "colab_type": "text"
      },
      "source": [
        "<a href=\"https://colab.research.google.com/github/praveenyadav-code/Python-workshop/blob/master/day2_s1.ipynb\" target=\"_parent\"><img src=\"https://colab.research.google.com/assets/colab-badge.svg\" alt=\"Open In Colab\"/></a>"
      ]
    },
    {
      "cell_type": "code",
      "metadata": {
        "id": "vvozZcVj2Xvq",
        "colab_type": "code",
        "colab": {
          "base_uri": "https://localhost:8080/",
          "height": 54
        },
        "outputId": "e98bb41a-8d5c-4f44-f59a-6fc322bdbd61"
      },
      "source": [
        "print([i for i in range(1,200) if i%3==0])\n"
      ],
      "execution_count": 1,
      "outputs": [
        {
          "output_type": "stream",
          "text": [
            "[3, 6, 9, 12, 15, 18, 21, 24, 27, 30, 33, 36, 39, 42, 45, 48, 51, 54, 57, 60, 63, 66, 69, 72, 75, 78, 81, 84, 87, 90, 93, 96, 99, 102, 105, 108, 111, 114, 117, 120, 123, 126, 129, 132, 135, 138, 141, 144, 147, 150, 153, 156, 159, 162, 165, 168, 171, 174, 177, 180, 183, 186, 189, 192, 195, 198]\n"
          ],
          "name": "stdout"
        }
      ]
    },
    {
      "cell_type": "code",
      "metadata": {
        "id": "tyBfLgKh2fWF",
        "colab_type": "code",
        "colab": {
          "base_uri": "https://localhost:8080/",
          "height": 54
        },
        "outputId": "cf1b00da-e827-4bda-f96b-852deb06f2cc"
      },
      "source": [
        "print([i for i in range(1000,2001) if i%5==0 and i%7==0])"
      ],
      "execution_count": 2,
      "outputs": [
        {
          "output_type": "stream",
          "text": [
            "[1015, 1050, 1085, 1120, 1155, 1190, 1225, 1260, 1295, 1330, 1365, 1400, 1435, 1470, 1505, 1540, 1575, 1610, 1645, 1680, 1715, 1750, 1785, 1820, 1855, 1890, 1925, 1960, 1995]\n"
          ],
          "name": "stdout"
        }
      ]
    },
    {
      "cell_type": "code",
      "metadata": {
        "id": "2Ay1JpYw2i95",
        "colab_type": "code",
        "colab": {
          "base_uri": "https://localhost:8080/",
          "height": 136
        },
        "outputId": "0c90179d-80d4-4f8a-fd6f-180ead73b1b1"
      },
      "source": [
        "a=[input() for i in range(int(input(\"Enter The N Value: \")))]\n",
        "a.sort()\n",
        "print(a)\n",
        "print(a[-1::-1])"
      ],
      "execution_count": 3,
      "outputs": [
        {
          "output_type": "stream",
          "text": [
            "Enter The N Value: 4\n",
            "praveen\n",
            "with\n",
            "peace\n",
            "mind\n",
            "['mind', 'peace', 'praveen', 'with']\n",
            "['with', 'praveen', 'peace', 'mind']\n"
          ],
          "name": "stdout"
        }
      ]
    },
    {
      "cell_type": "code",
      "metadata": {
        "id": "1T6OlJp62jJ1",
        "colab_type": "code",
        "colab": {
          "base_uri": "https://localhost:8080/",
          "height": 34
        },
        "outputId": "8b0b7bc4-9b0e-449f-dc08-f96c3d01b614"
      },
      "source": [
        "\n",
        "import math\n",
        "print([i for i in range(500,1001) if math.sqrt(i)==int(math.sqrt(i)) and i%5==0])"
      ],
      "execution_count": 4,
      "outputs": [
        {
          "output_type": "stream",
          "text": [
            "[625, 900]\n"
          ],
          "name": "stdout"
        }
      ]
    },
    {
      "cell_type": "code",
      "metadata": {
        "id": "tM_idc9G2jOq",
        "colab_type": "code",
        "colab": {
          "base_uri": "https://localhost:8080/",
          "height": 68
        },
        "outputId": "e26a6ce7-5db8-459a-ce39-83cd3aade7e7"
      },
      "source": [
        "s=input(\"Enter The String: \")\n",
        "a=s.split(\" \")\n",
        "print(tuple(a))\n",
        "print(max(tuple(a)))"
      ],
      "execution_count": 5,
      "outputs": [
        {
          "output_type": "stream",
          "text": [
            "Enter The String: praveen yadav\n",
            "('praveen', 'yadav')\n",
            "yadav\n"
          ],
          "name": "stdout"
        }
      ]
    },
    {
      "cell_type": "code",
      "metadata": {
        "id": "HlRLIMKT2jI-",
        "colab_type": "code",
        "colab": {
          "base_uri": "https://localhost:8080/",
          "height": 153
        },
        "outputId": "e0d6dca0-9bf3-4afc-fb6f-de6e27f19cd9"
      },
      "source": [
        "\n",
        "import operator\n",
        "d={}\n",
        "for i in range(int(input(\"Enter The Number Of Students: \"))):\n",
        "  n=input(f\"Enter The Roll Number Of Student-{i+1}: \")\n",
        "  d[n]=int(input(f\"Enter The Marks Of Student-{i+1}: \"))\n",
        "print(list(sorted(d.items(), key=operator.itemgetter(1), reverse=True)))"
      ],
      "execution_count": 6,
      "outputs": [
        {
          "output_type": "stream",
          "text": [
            "Enter The Number Of Students: 3\n",
            "Enter The Roll Number Of Student-1: 063\n",
            "Enter The Marks Of Student-1: 10\n",
            "Enter The Roll Number Of Student-2: 113\n",
            "Enter The Marks Of Student-2: 15\n",
            "Enter The Roll Number Of Student-3: 072\n",
            "Enter The Marks Of Student-3: 15\n",
            "[('113', 15), ('072', 15), ('063', 10)]\n"
          ],
          "name": "stdout"
        }
      ]
    },
    {
      "cell_type": "code",
      "metadata": {
        "id": "VpQXFjNA8FYd",
        "colab_type": "code",
        "colab": {
          "base_uri": "https://localhost:8080/",
          "height": 119
        },
        "outputId": "9b37c5f8-f0ad-4d59-9504-805898b92879"
      },
      "source": [
        "\n",
        "import operator\n",
        "d={}\n",
        "for i in range(int(input(\"Enter The Number Of Students: \"))):\n",
        "  n=input(f\"Enter The Name Of Employee-{i+1}: \")\n",
        "  d[n]=int(input(f\"Enter The Salary Of Employee-{i+1}: \"))\n",
        "print(list(sorted(d.items(), key=operator.itemgetter(0))))"
      ],
      "execution_count": 7,
      "outputs": [
        {
          "output_type": "stream",
          "text": [
            "Enter The Number Of Students: 2\n",
            "Enter The Name Of Employee-1: praveen\n",
            "Enter The Salary Of Employee-1: 10000\n",
            "Enter The Name Of Employee-2: vijay\n",
            "Enter The Salary Of Employee-2: 100000\n",
            "[('praveen', 10000), ('vijay', 100000)]\n"
          ],
          "name": "stdout"
        }
      ]
    },
    {
      "cell_type": "code",
      "metadata": {
        "id": "WPjB4r468FqF",
        "colab_type": "code",
        "colab": {}
      },
      "source": [
        ""
      ],
      "execution_count": null,
      "outputs": []
    },
    {
      "cell_type": "code",
      "metadata": {
        "id": "xiuzWEXY8F21",
        "colab_type": "code",
        "colab": {}
      },
      "source": [
        ""
      ],
      "execution_count": null,
      "outputs": []
    }
  ]
}